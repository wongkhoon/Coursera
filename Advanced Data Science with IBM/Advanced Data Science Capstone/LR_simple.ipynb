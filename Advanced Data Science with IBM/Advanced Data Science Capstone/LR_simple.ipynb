{
 "cells": [
  {
   "cell_type": "markdown",
   "id": "x66uuiAfwTuQ",
   "metadata": {
    "id": "x66uuiAfwTuQ"
   },
   "source": [
    "### **Set working environment** "
   ]
  },
  {
   "cell_type": "code",
   "execution_count": 1,
   "id": "AohGMM2fwTuR",
   "metadata": {
    "colab": {
     "base_uri": "https://localhost:8080/"
    },
    "id": "AohGMM2fwTuR",
    "outputId": "ac5f6d74-9692-4e9c-e2f5-53afd15170ea"
   },
   "outputs": [],
   "source": [
    "# Install Spark NLP from PyPI\n",
    "!pip install -q spark-nlp==4.0.1 pyspark==3.3.0"
   ]
  },
  {
   "cell_type": "markdown",
   "id": "a7cb4f78-a485-4a63-b828-17a43a6d1d01",
   "metadata": {},
   "source": [
    "To enable Spark session on Google Cloud Vertex AI Workbench Jupyterlab Notebook, follow the steps as follows or refer [here](https://stackoverflow.com/questions/73047089/how-to-start-spark-session-on-vertex-ai-workbench-jupyterlab-notebook/73061535?noredirect=1#comment129061260_73061535).\n",
    "\n",
    "Sign in to Google Cloud Platform [here](https://www.google.com/url?sa=t&rct=j&q=&esrc=s&source=web&cd=&cad=rja&uact=8&ved=2ahUKEwiT9svnmaX5AhVl7jgGHfxgBQYQFnoECAUQAQ&url=https%3A%2F%2Fconsole.cloud.google.com%2F&usg=AOvVaw1GxwHR1WZnDu0xsR-djCrv). Upon sign-in, on the Google Cloud console mainpage, go to ARTIFICIAL INTELLIGENCE section from the Navigation menu (denoted by 3 short horizontal solid lines) on the left panel and select Vertex AI then select Workbench. \n",
    "<br>Next, select USER-MANAGED-NOTEBOOK tab on the top panel to create Jupyterlab notebook. \n",
    "<br>Follow the following steps inside the notebook after creating the notebook. That is,\n",
    "go to File->New->Terminal and run the following two commands in the Terminal:\n",
    "<br>`sudo apt-get update`\n",
    "<br>`sudo apt-get install default-jdk`\n",
    "\n",
    "Lastly, verify if Java is installed with version by running this command: `java --version`."
   ]
  },
  {
   "cell_type": "code",
   "execution_count": 2,
   "id": "x6XWt674wTuS",
   "metadata": {
    "colab": {
     "base_uri": "https://localhost:8080/",
     "height": 258
    },
    "id": "x6XWt674wTuS",
    "outputId": "1ef6b6bb-4d47-43d9-e858-b9760a5f8436"
   },
   "outputs": [
    {
     "name": "stdout",
     "output_type": "stream",
     "text": [
      ":: loading settings :: url = jar:file:/opt/conda/lib/python3.7/site-packages/pyspark/jars/ivy-2.5.0.jar!/org/apache/ivy/core/settings/ivysettings.xml\n"
     ]
    },
    {
     "name": "stderr",
     "output_type": "stream",
     "text": [
      "Ivy Default Cache set to: /home/jupyter/.ivy2/cache\n",
      "The jars for the packages stored in: /home/jupyter/.ivy2/jars\n",
      "com.johnsnowlabs.nlp#spark-nlp_2.12 added as a dependency\n",
      ":: resolving dependencies :: org.apache.spark#spark-submit-parent-fcc10f4c-7f76-4a6b-8bcb-b93072dc708b;1.0\n",
      "\tconfs: [default]\n",
      "\tfound com.johnsnowlabs.nlp#spark-nlp_2.12;4.0.1 in central\n",
      "\tfound com.typesafe#config;1.4.2 in central\n",
      "\tfound org.rocksdb#rocksdbjni;6.29.5 in central\n",
      "\tfound com.amazonaws#aws-java-sdk-bundle;1.11.828 in central\n",
      "\tfound com.github.universal-automata#liblevenshtein;3.0.0 in central\n",
      "\tfound com.google.code.findbugs#annotations;3.0.1 in central\n",
      "\tfound net.jcip#jcip-annotations;1.0 in central\n",
      "\tfound com.google.code.findbugs#jsr305;3.0.1 in central\n",
      "\tfound com.google.protobuf#protobuf-java-util;3.0.0-beta-3 in central\n",
      "\tfound com.google.protobuf#protobuf-java;3.0.0-beta-3 in central\n",
      "\tfound com.google.code.gson#gson;2.3 in central\n",
      "\tfound it.unimi.dsi#fastutil;7.0.12 in central\n",
      "\tfound org.projectlombok#lombok;1.16.8 in central\n",
      "\tfound org.slf4j#slf4j-api;1.7.21 in central\n",
      "\tfound com.navigamez#greex;1.0 in central\n",
      "\tfound dk.brics.automaton#automaton;1.11-8 in central\n",
      "\tfound com.johnsnowlabs.nlp#tensorflow-cpu_2.12;0.4.2 in central\n",
      ":: resolution report :: resolve 559ms :: artifacts dl 28ms\n",
      "\t:: modules in use:\n",
      "\tcom.amazonaws#aws-java-sdk-bundle;1.11.828 from central in [default]\n",
      "\tcom.github.universal-automata#liblevenshtein;3.0.0 from central in [default]\n",
      "\tcom.google.code.findbugs#annotations;3.0.1 from central in [default]\n",
      "\tcom.google.code.findbugs#jsr305;3.0.1 from central in [default]\n",
      "\tcom.google.code.gson#gson;2.3 from central in [default]\n",
      "\tcom.google.protobuf#protobuf-java;3.0.0-beta-3 from central in [default]\n",
      "\tcom.google.protobuf#protobuf-java-util;3.0.0-beta-3 from central in [default]\n",
      "\tcom.johnsnowlabs.nlp#spark-nlp_2.12;4.0.1 from central in [default]\n",
      "\tcom.johnsnowlabs.nlp#tensorflow-cpu_2.12;0.4.2 from central in [default]\n",
      "\tcom.navigamez#greex;1.0 from central in [default]\n",
      "\tcom.typesafe#config;1.4.2 from central in [default]\n",
      "\tdk.brics.automaton#automaton;1.11-8 from central in [default]\n",
      "\tit.unimi.dsi#fastutil;7.0.12 from central in [default]\n",
      "\tnet.jcip#jcip-annotations;1.0 from central in [default]\n",
      "\torg.projectlombok#lombok;1.16.8 from central in [default]\n",
      "\torg.rocksdb#rocksdbjni;6.29.5 from central in [default]\n",
      "\torg.slf4j#slf4j-api;1.7.21 from central in [default]\n",
      "\t---------------------------------------------------------------------\n",
      "\t|                  |            modules            ||   artifacts   |\n",
      "\t|       conf       | number| search|dwnlded|evicted|| number|dwnlded|\n",
      "\t---------------------------------------------------------------------\n",
      "\t|      default     |   17  |   0   |   0   |   0   ||   17  |   0   |\n",
      "\t---------------------------------------------------------------------\n",
      ":: retrieving :: org.apache.spark#spark-submit-parent-fcc10f4c-7f76-4a6b-8bcb-b93072dc708b\n",
      "\tconfs: [default]\n",
      "\t0 artifacts copied, 17 already retrieved (0kB/16ms)\n"
     ]
    },
    {
     "name": "stdout",
     "output_type": "stream",
     "text": [
      "22/08/04 13:18:56 WARN NativeCodeLoader: Unable to load native-hadoop library for your platform... using builtin-java classes where applicable\n"
     ]
    },
    {
     "name": "stderr",
     "output_type": "stream",
     "text": [
      "Setting default log level to \"WARN\".\n",
      "To adjust logging level use sc.setLogLevel(newLevel). For SparkR, use setLogLevel(newLevel).\n"
     ]
    },
    {
     "name": "stdout",
     "output_type": "stream",
     "text": [
      "22/08/04 13:18:57 WARN Utils: Service 'SparkUI' could not bind on port 4040. Attempting port 4041.\n",
      "Spark NLP version:  4.0.1\n",
      "Apache Spark version:  3.3.0\n"
     ]
    },
    {
     "data": {
      "text/html": [
       "\n",
       "            <div>\n",
       "                <p><b>SparkSession - in-memory</b></p>\n",
       "                \n",
       "        <div>\n",
       "            <p><b>SparkContext</b></p>\n",
       "\n",
       "            <p><a href=\"http://ibm-capstone-2022.us-west1-b.c.capstone-2022-356719.internal:4041\">Spark UI</a></p>\n",
       "\n",
       "            <dl>\n",
       "              <dt>Version</dt>\n",
       "                <dd><code>v3.3.0</code></dd>\n",
       "              <dt>Master</dt>\n",
       "                <dd><code>local[*]</code></dd>\n",
       "              <dt>AppName</dt>\n",
       "                <dd><code>Spark NLP</code></dd>\n",
       "            </dl>\n",
       "        </div>\n",
       "        \n",
       "            </div>\n",
       "        "
      ],
      "text/plain": [
       "<pyspark.sql.session.SparkSession at 0x7f7fe0376dd0>"
      ]
     },
     "execution_count": 2,
     "metadata": {},
     "output_type": "execute_result"
    }
   ],
   "source": [
    "import time\n",
    "\n",
    "import sparknlp\n",
    "from sparknlp.base import *\n",
    "from sparknlp.common import *\n",
    "from sparknlp.annotator import *\n",
    "\n",
    "from pyspark.sql import functions as func\n",
    "from pyspark.ml import Pipeline\n",
    "from pyspark.sql import SparkSession\n",
    "\n",
    "# https://github.com/JohnSnowLabs/spark-nlp\n",
    "# Start spark session\n",
    "spark=sparknlp.start()\n",
    "\n",
    "print(\"Spark NLP version: \", sparknlp.version())\n",
    "print(\"Apache Spark version: \", spark.version)\n",
    "\n",
    "spark"
   ]
  },
  {
   "cell_type": "code",
   "execution_count": 3,
   "id": "BS33u8fhwTuT",
   "metadata": {
    "id": "BS33u8fhwTuT"
   },
   "outputs": [],
   "source": [
    "# https://stackoverflow.com/questions/36786722/how-to-display-full-output-in-jupyter-not-only-last-result\n",
    "# Display full output in output cell, not only last result\n",
    "from IPython.core.interactiveshell import InteractiveShell\n",
    "InteractiveShell.ast_node_interactivity = 'all'"
   ]
  },
  {
   "cell_type": "code",
   "execution_count": 4,
   "id": "PHBCokgGwTuT",
   "metadata": {
    "colab": {
     "base_uri": "https://localhost:8080/"
    },
    "id": "PHBCokgGwTuT",
    "outputId": "1484ae64-0acd-491f-d1d4-d0f13aa96e74"
   },
   "outputs": [
    {
     "data": {
      "text/plain": [
       "(60, 20)"
      ]
     },
     "execution_count": 4,
     "metadata": {},
     "output_type": "execute_result"
    }
   ],
   "source": [
    "import pandas as pd\n",
    "\n",
    "# https://www.kaggle.com/questions-and-answers/118932\n",
    "# Max rows and columns of pandas dataframe \n",
    "pd.options.display.max_rows,pd.options.display.max_columns\n",
    "\n",
    "# https://thispointer.com/python-pandas-how-to-display-full-dataframe-i-e-print-all-rows-columns-without-truncation/\n",
    "# Print all the contents of a pandas dataframe\n",
    "pd.set_option('display.max_rows', None) # Print unlimited number of rows by setting to None, default is 10\n",
    "pd.set_option('display.max_columns', None) # Do not truncate columns to display all of them by setting to None\n",
    "pd.set_option('display.width', None) # Auto-detect the width of dataframe to display all columns in single line by setting to None\n",
    "pd.set_option('display.max_colwidth', None) # Auto detect the max size of column and print contents of that column without truncated the contents"
   ]
  },
  {
   "cell_type": "markdown",
   "id": "5XJ0eIu4Tk0a",
   "metadata": {
    "id": "5XJ0eIu4Tk0a"
   },
   "source": [
    "### **Simple logistic regression**\n",
    "- Numerical features only i.e. Age, Rating and Positive Feedback Count\n"
   ]
  },
  {
   "cell_type": "markdown",
   "id": "Lb5RRwMD6ifW",
   "metadata": {
    "id": "Lb5RRwMD6ifW"
   },
   "source": [
    "#### **Pipeline, GridSearch and Cross Validation**"
   ]
  },
  {
   "cell_type": "code",
   "execution_count": 5,
   "id": "Tp6jC-fXVgHB",
   "metadata": {
    "id": "Tp6jC-fXVgHB"
   },
   "outputs": [],
   "source": [
    "# https://stackoverflow.com/questions/8924173/how-to-print-bold-text-in-python\n",
    "start = \"\\033[1m\" # Bold text\n",
    "end = \"\\033[0;0m\" # Reset \n",
    "\n",
    "from pyspark.ml.classification import LogisticRegression\n",
    "base_lr = LogisticRegression(labelCol='Recommended IND',featuresCol='numericalFeatures',weightCol='weightCol')\n",
    "\n",
    "# Tuning the model with the ParamGridBuilder and the CrossValidator\n",
    "from pyspark.ml.tuning import ParamGridBuilder, CrossValidator\n",
    "\n",
    "# Create ParamGrid for Cross Validation\n",
    "paramGrid_base_lr = (ParamGridBuilder()\n",
    "              .addGrid(base_lr.regParam, [0,0.01,0.3,0.5,2.0])\n",
    "              .addGrid(base_lr.elasticNetParam, [0.0, 0.5, 1.0]) # [0, 1]. For alpha = 0, the penalty is an L2 penalty. For alpha = 1, it is an L1 penalty\n",
    "              .addGrid(base_lr.maxIter, [1,5,10]) \n",
    "              .build())\n",
    "\n",
    "from pyspark.ml.evaluation import BinaryClassificationEvaluator\n",
    "binary_evaluator = BinaryClassificationEvaluator(labelCol='Recommended IND',metricName='areaUnderPR') # Class imbalance hence use areaUnderPR instead of areaUnderROC\n",
    "\n",
    "cv_base_lr = CrossValidator(estimator=base_lr, \n",
    "                       estimatorParamMaps=paramGrid_base_lr, \n",
    "                       evaluator=binary_evaluator, \n",
    "                       numFolds=3, # Laborious job hence 3 instead\n",
    "                       parallelism=10, # https://spark.apache.org/docs/latest/ml-tuning.html\n",
    "                       seed=42) "
   ]
  },
  {
   "cell_type": "markdown",
   "id": "FwgrYFpfRHOu",
   "metadata": {
    "id": "FwgrYFpfRHOu",
    "tags": []
   },
   "source": [
    "#### **Mount to Google Drive**\n",
    "*   On Google Cloud Vertex AI Workbench Jupyterlab Notebook, follow instructions:\n",
    "    - Either [this](https://stackoverflow.com/questions/61449536/mount-google-drive-from-ai-platform-notebook)\n",
    "    - Or this - [Terminal commands snapshot within the Google Cloud Platform Vertex AI Workbench Jupyterlab Notebook](https://github.com/wongkhoon/Coursera/blob/23ba493ec53d07aac6bfbcd2e4ec9cc3bd0bd779/Advanced%20Data%20Science%20with%20IBM/Advanced%20Data%20Science%20Capstone/GoogleCloudPlatform_VertexAI_Workbench_JupyterlabNotebook_Terminal_20220722.txt)\n",
    "<br>\n",
    "\n",
    "    in order to load train and test set parquet files from Google Drive in Google Cloud platform Vertex AI Jupyterlab notebook"
   ]
  },
  {
   "cell_type": "markdown",
   "id": "Y90rwSG7RUMz",
   "metadata": {
    "id": "Y90rwSG7RUMz"
   },
   "source": [
    "#### **Training**"
   ]
  },
  {
   "cell_type": "code",
   "execution_count": 6,
   "id": "66a_Z031RTAd",
   "metadata": {
    "colab": {
     "base_uri": "https://localhost:8080/"
    },
    "id": "66a_Z031RTAd",
    "outputId": "31ded388-a67f-428e-8f88-f74fb0852878"
   },
   "outputs": [
    {
     "name": "stderr",
     "output_type": "stream",
     "text": [
      "[Stage 1:>    (0 + 1) / 1][Stage 2:>    (0 + 1) / 1][Stage 3:>    (0 + 1) / 1]  \r"
     ]
    },
    {
     "name": "stdout",
     "output_type": "stream",
     "text": [
      "22/08/04 13:19:22 WARN BlockManager: Block rdd_6_0 already exists on this machine; not re-adding it\n",
      "22/08/04 13:19:22 WARN BlockManager: Block rdd_6_0 already exists on this machine; not re-adding it\n",
      "22/08/04 13:19:22 WARN BlockManager: Block rdd_6_0 already exists on this machine; not re-adding it\n",
      "22/08/04 13:19:22 WARN BlockManager: Block rdd_6_0 already exists on this machine; not re-adding it\n",
      "22/08/04 13:19:22 WARN BlockManager: Block rdd_6_0 already exists on this machine; not re-adding it\n"
     ]
    },
    {
     "name": "stderr",
     "output_type": "stream",
     "text": [
      "[Stage 70:>   (0 + 1) / 1][Stage 73:>   (0 + 1) / 1][Stage 76:>   (0 + 1) / 1]  \r"
     ]
    },
    {
     "name": "stdout",
     "output_type": "stream",
     "text": [
      "22/08/04 13:19:31 WARN BlockManager: Block rdd_327_0 already exists on this machine; not re-adding it\n"
     ]
    },
    {
     "name": "stderr",
     "output_type": "stream",
     "text": [
      "                                                                                \r"
     ]
    }
   ],
   "source": [
    "# To load\n",
    "train_numeric = spark.read.parquet('mnt/gdrivefs/Colab Notebooks/train_numeric.parquet')\n",
    "\n",
    "starttrain = time.time()\n",
    "cvModel_base_lr = cv_base_lr.fit(train_numeric)\n",
    "endtrain = time.time()"
   ]
  },
  {
   "cell_type": "code",
   "execution_count": 7,
   "id": "9d327db2-81e8-422c-9e16-de27030f2372",
   "metadata": {},
   "outputs": [
    {
     "name": "stdout",
     "output_type": "stream",
     "text": [
      "\u001b[1m---- 3-fold cross validation for the simple logistic regression ----\n",
      "\u001b[0;0m\n",
      "\u001b[1mTraining time taken in seconds:\u001b[0;0m 82.318608045578\n"
     ]
    }
   ],
   "source": [
    "print(start+\"---- 3-fold cross validation for the simple logistic regression ----\\n\"+end)\n",
    "print(start+\"Training time taken in seconds:\"+end,format(endtrain-starttrain))"
   ]
  },
  {
   "cell_type": "markdown",
   "id": "3jj_VG9y66zG",
   "metadata": {
    "id": "3jj_VG9y66zG"
   },
   "source": [
    "#### **Prediction**"
   ]
  },
  {
   "cell_type": "code",
   "execution_count": 8,
   "id": "-xm1LfJY65yp",
   "metadata": {
    "colab": {
     "base_uri": "https://localhost:8080/"
    },
    "id": "-xm1LfJY65yp",
    "outputId": "9c859c65-930e-47e8-ff18-43dbbaa31f06"
   },
   "outputs": [
    {
     "name": "stderr",
     "output_type": "stream",
     "text": [
      "[Stage 2544:>                                                       (0 + 1) / 1]\r"
     ]
    },
    {
     "name": "stdout",
     "output_type": "stream",
     "text": [
      "\u001b[1mPrediction time taken in seconds:\u001b[0;0m 0.041237592697143555\n"
     ]
    },
    {
     "name": "stderr",
     "output_type": "stream",
     "text": [
      "                                                                                \r"
     ]
    }
   ],
   "source": [
    "# To load\n",
    "test = spark.read.parquet('mnt/gdrivefs/Colab Notebooks/test.parquet')\n",
    "\n",
    "startpred = time.time()\n",
    "predictions_base_lr = cvModel_base_lr.transform(test)\n",
    "endpred = time.time()\n",
    "print(start+\"Prediction time taken in seconds:\"+end,format(endpred-startpred))"
   ]
  },
  {
   "cell_type": "markdown",
   "id": "Ajy7tjxQ7PQS",
   "metadata": {
    "id": "Ajy7tjxQ7PQS"
   },
   "source": [
    "#### **Best model parameters**"
   ]
  },
  {
   "cell_type": "code",
   "execution_count": 9,
   "id": "Rik9gYLSrD_Y",
   "metadata": {
    "colab": {
     "base_uri": "https://localhost:8080/"
    },
    "id": "Rik9gYLSrD_Y",
    "outputId": "415a01d8-a37e-4b79-ed6f-b352d49a29e8"
   },
   "outputs": [
    {
     "name": "stdout",
     "output_type": "stream",
     "text": [
      "\u001b[1mAll parameters:\u001b[0;0m\n",
      "aggregationDepth: suggested depth for treeAggregate (>= 2). (default: 2)\n",
      "elasticNetParam: the ElasticNet mixing parameter, in range [0, 1]. For alpha = 0, the penalty is an L2 penalty. For alpha = 1, it is an L1 penalty. (default: 0.0, current: 1.0)\n",
      "family: The name of family which is a description of the label distribution to be used in the model. Supported options: auto, binomial, multinomial (default: auto)\n",
      "featuresCol: features column name. (default: features, current: numericalFeatures)\n",
      "fitIntercept: whether to fit an intercept term. (default: True)\n",
      "labelCol: label column name. (default: label, current: Recommended IND)\n",
      "lowerBoundsOnCoefficients: The lower bounds on coefficients if fitting under bound constrained optimization. The bound matrix must be compatible with the shape (1, number of features) for binomial regression, or (number of classes, number of features) for multinomial regression. (undefined)\n",
      "lowerBoundsOnIntercepts: The lower bounds on intercepts if fitting under bound constrained optimization. The bounds vector size must beequal with 1 for binomial regression, or the number oflasses for multinomial regression. (undefined)\n",
      "maxBlockSizeInMB: maximum memory in MB for stacking input data into blocks. Data is stacked within partitions. If more than remaining data size in a partition then it is adjusted to the data size. Default 0.0 represents choosing optimal value, depends on specific algorithm. Must be >= 0. (default: 0.0)\n",
      "maxIter: max number of iterations (>= 0). (default: 100, current: 5)\n",
      "predictionCol: prediction column name. (default: prediction)\n",
      "probabilityCol: Column name for predicted class conditional probabilities. Note: Not all models output well-calibrated probability estimates! These probabilities should be treated as confidences, not precise probabilities. (default: probability)\n",
      "rawPredictionCol: raw prediction (a.k.a. confidence) column name. (default: rawPrediction)\n",
      "regParam: regularization parameter (>= 0). (default: 0.0, current: 0.01)\n",
      "standardization: whether to standardize the training features before fitting the model. (default: True)\n",
      "threshold: Threshold in binary classification prediction, in range [0, 1]. If threshold and thresholds are both set, they must match.e.g. if threshold is p, then thresholds must be equal to [1-p, p]. (default: 0.5)\n",
      "thresholds: Thresholds in multi-class classification to adjust the probability of predicting each class. Array must have length equal to the number of classes, with values > 0, excepting that at most one value may be 0. The class with largest value p/t is predicted, where p is the original probability of that class and t is the class's threshold. (undefined)\n",
      "tol: the convergence tolerance for iterative algorithms (>= 0). (default: 1e-06)\n",
      "upperBoundsOnCoefficients: The upper bounds on coefficients if fitting under bound constrained optimization. The bound matrix must be compatible with the shape (1, number of features) for binomial regression, or (number of classes, number of features) for multinomial regression. (undefined)\n",
      "upperBoundsOnIntercepts: The upper bounds on intercepts if fitting under bound constrained optimization. The bound vector size must be equal with 1 for binomial regression, or the number of classes for multinomial regression. (undefined)\n",
      "weightCol: weight column name. If this is not set or empty, we treat all instance weights as 1.0. (current: weightCol)\n"
     ]
    }
   ],
   "source": [
    "# https://www.ateam-oracle.com/post/multiclass-text-classification-crossvalidation-with-pyspark-pipelines\n",
    "bestModel_base_lr = cvModel_base_lr.bestModel\n",
    "# Returns the documentation of all params of this model \n",
    "print(start+'All parameters:'+end)\n",
    "print(bestModel_base_lr.explainParams())"
   ]
  },
  {
   "cell_type": "markdown",
   "id": "1f_yY7Uv7eAR",
   "metadata": {
    "id": "1f_yY7Uv7eAR"
   },
   "source": [
    "#### **Evaluation metrics**"
   ]
  },
  {
   "cell_type": "code",
   "execution_count": 10,
   "id": "0e1bc998-7942-4766-ac54-47d2f8ee325d",
   "metadata": {},
   "outputs": [
    {
     "name": "stderr",
     "output_type": "stream",
     "text": [
      "                                                                                \r"
     ]
    }
   ],
   "source": [
    "from pyspark.sql.functions import col\n",
    "from pyspark.sql.types import StringType\n",
    "\n",
    "sdf=predictions_base_lr.select(\"Recommended IND\",\"prediction\")\n",
    "\n",
    "# Convert to Pandas dataframe in order to generate confusion matrix and classification report                 \n",
    "pdf=sdf.toPandas()"
   ]
  },
  {
   "cell_type": "code",
   "execution_count": 11,
   "id": "df9f058f-d3d4-478a-a1e8-3b387df00bf3",
   "metadata": {},
   "outputs": [
    {
     "data": {
      "text/plain": [
       "Text(0.5, 1.0, 'Confusion matrix: \\n Simple logistic regression')"
      ]
     },
     "execution_count": 11,
     "metadata": {},
     "output_type": "execute_result"
    },
    {
     "data": {
      "text/plain": [
       "Text(0.5, 15.0, 'Predicted Labels')"
      ]
     },
     "execution_count": 11,
     "metadata": {},
     "output_type": "execute_result"
    },
    {
     "data": {
      "text/plain": [
       "Text(33.0, 0.5, 'Actual Labels')"
      ]
     },
     "execution_count": 11,
     "metadata": {},
     "output_type": "execute_result"
    },
    {
     "data": {
      "text/plain": [
       "[Text(0, 0.5, 'Not recommended'), Text(0, 1.5, 'Recommended')]"
      ]
     },
     "execution_count": 11,
     "metadata": {},
     "output_type": "execute_result"
    },
    {
     "data": {
      "text/plain": [
       "[Text(0.5, 0, 'Not recommended'), Text(1.5, 0, 'Recommended')]"
      ]
     },
     "execution_count": 11,
     "metadata": {},
     "output_type": "execute_result"
    },
    {
     "data": {
      "image/png": "[encoded data removed]",
      "text/plain": [
       "<Figure size 432x288 with 1 Axes>"
      ]
     },
     "metadata": {
      "needs_background": "light"
     },
     "output_type": "display_data"
    }
   ],
   "source": [
    "from sklearn.metrics import confusion_matrix\n",
    "cm = confusion_matrix(pdf[\"Recommended IND\"],pdf[\"prediction\"])\n",
    "\n",
    "import seaborn as sns\n",
    "ax=sns.heatmap(cm, annot=True, fmt=\"d\",cbar=False, cmap=\"coolwarm\")\n",
    "ax.set_title(\"Confusion matrix: \\n Simple logistic regression\")\n",
    "ax.set_xlabel('Predicted Labels')\n",
    "ax.set_ylabel('Actual Labels')\n",
    "ax.yaxis.set_ticklabels(['Not recommended', 'Recommended'])\n",
    "ax.xaxis.set_ticklabels(['Not recommended', 'Recommended'])"
   ]
  },
  {
   "cell_type": "code",
   "execution_count": 12,
   "id": "76e9fb10-49e8-46b5-b93f-dbcb65ea2b9f",
   "metadata": {},
   "outputs": [
    {
     "name": "stdout",
     "output_type": "stream",
     "text": [
      "\u001b[1mClassification report:\u001b[0;0m\n",
      "                 precision    recall  f1-score   support\n",
      "\n",
      "Not recommended       0.78      0.96      0.86       208\n",
      "    Recommended       0.99      0.94      0.96       944\n",
      "\n",
      "       accuracy                           0.94      1152\n",
      "      macro avg       0.88      0.95      0.91      1152\n",
      "   weighted avg       0.95      0.94      0.95      1152\n",
      "\n"
     ]
    }
   ],
   "source": [
    "from sklearn.metrics import classification_report\n",
    "print(start+\"Classification report:\"+end)\n",
    "print(classification_report(pdf[\"Recommended IND\"],pdf[\"prediction\"],target_names=[\"Not recommended\",\"Recommended\"]))"
   ]
  },
  {
   "cell_type": "code",
   "execution_count": 13,
   "id": "6gS7Dwv2rOXY",
   "metadata": {
    "colab": {
     "base_uri": "https://localhost:8080/"
    },
    "id": "6gS7Dwv2rOXY",
    "outputId": "3ab4a80f-93f2-4fa7-82c2-f8460298dcc7"
   },
   "outputs": [
    {
     "name": "stderr",
     "output_type": "stream",
     "text": [
      "[Stage 2555:>                                                       (0 + 1) / 1]\r"
     ]
    },
    {
     "name": "stdout",
     "output_type": "stream",
     "text": [
      "Area under the receiver operating characteristic (ROC) curve = 0.9794\n",
      "Area under the precision-recall curve                        = 0.9957\n"
     ]
    },
    {
     "name": "stderr",
     "output_type": "stream",
     "text": [
      "                                                                                \r"
     ]
    }
   ],
   "source": [
    "auc_base_lr = binary_evaluator.evaluate(predictions_base_lr, {binary_evaluator.metricName: \"areaUnderROC\"}) #https://spark.apache.org/docs/latest/api/python/reference/api/pyspark.mllib.evaluation.BinaryClassificationMetrics.html\n",
    "aucPR_base_lr = binary_evaluator.evaluate(predictions_base_lr, {binary_evaluator.metricName: \"areaUnderPR\"})\n",
    "\n",
    "print('Area under the receiver operating characteristic (ROC) curve = {:.4f}\\nArea under the precision-recall curve                        = {:.4f}'.format(auc_base_lr,aucPR_base_lr))"
   ]
  }
 ],
 "metadata": {
  "colab": {
   "collapsed_sections": [],
   "name": "LR_basemodel.ipynb",
   "provenance": []
  },
  "environment": {
   "kernel": "python3",
   "name": "common-cpu.m94",
   "type": "gcloud",
   "uri": "gcr.io/deeplearning-platform-release/base-cpu:m94"
  },
  "kernelspec": {
   "display_name": "Python 3",
   "language": "python",
   "name": "python3"
  },
  "language_info": {
   "codemirror_mode": {
    "name": "ipython",
    "version": 3
   },
   "file_extension": ".py",
   "mimetype": "text/x-python",
   "name": "python",
   "nbconvert_exporter": "python",
   "pygments_lexer": "ipython3",
   "version": "3.7.12"
  }
 },
 "nbformat": 4,
 "nbformat_minor": 5
}
