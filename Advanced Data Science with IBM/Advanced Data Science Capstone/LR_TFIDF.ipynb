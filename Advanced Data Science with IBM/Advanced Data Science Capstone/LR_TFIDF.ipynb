{
 "cells": [
  {
   "cell_type": "markdown",
   "id": "S70Um5D70kJq",
   "metadata": {
    "id": "S70Um5D70kJq"
   },
   "source": [
    "### **Set working environment** "
   ]
  },
  {
   "cell_type": "code",
   "execution_count": 1,
   "id": "N4V47Dcj0kJq",
   "metadata": {
    "colab": {
     "base_uri": "https://localhost:8080/"
    },
    "id": "N4V47Dcj0kJq",
    "outputId": "c29bda0c-23c6-4284-be37-3192983baf6c"
   },
   "outputs": [],
   "source": [
    "# Install Spark NLP from PyPI\n",
    "!pip install -q spark-nlp==4.0.1 pyspark==3.3.0"
   ]
  },
  {
   "cell_type": "markdown",
   "id": "4f012691-82f7-423e-bd82-1d51153d2223",
   "metadata": {},
   "source": [
    "To enable Spark session on Google Cloud Vertex AI Workbench Jupyterlab Notebook, follow the steps as follows or refer [here](https://stackoverflow.com/questions/73047089/how-to-start-spark-session-on-vertex-ai-workbench-jupyterlab-notebook/73061535?noredirect=1#comment129061260_73061535).\n",
    "\n",
    "Sign in to Google Cloud Platform [here](https://www.google.com/url?sa=t&rct=j&q=&esrc=s&source=web&cd=&cad=rja&uact=8&ved=2ahUKEwiT9svnmaX5AhVl7jgGHfxgBQYQFnoECAUQAQ&url=https%3A%2F%2Fconsole.cloud.google.com%2F&usg=AOvVaw1GxwHR1WZnDu0xsR-djCrv). Upon sign-in, on the Google Cloud console mainpage, go to ARTIFICIAL INTELLIGENCE section from the Navigation menu (denoted by 3 short horizontal solid lines) on the left panel and select Vertex AI then select Workbench. \n",
    "<br>Next, select USER-MANAGED-NOTEBOOK tab on the top panel to create Jupyterlab notebook. \n",
    "<br>Follow the following steps inside the notebook after creating the notebook. That is,\n",
    "go to File->New->Terminal and run the following two commands in the Terminal:\n",
    "<br>`sudo apt-get update`\n",
    "<br>`sudo apt-get install default-jdk`\n",
    "\n",
    "Lastly, verify if Java is installed with version by running this command: `java --version`."
   ]
  },
  {
   "cell_type": "code",
   "execution_count": 2,
   "id": "SOqB-vUU0kJq",
   "metadata": {
    "colab": {
     "base_uri": "https://localhost:8080/",
     "height": 258
    },
    "id": "SOqB-vUU0kJq",
    "outputId": "9f463be1-e4b8-462c-b3f1-74cf3deab23d"
   },
   "outputs": [
    {
     "name": "stdout",
     "output_type": "stream",
     "text": [
      ":: loading settings :: url = jar:file:/opt/conda/lib/python3.7/site-packages/pyspark/jars/ivy-2.5.0.jar!/org/apache/ivy/core/settings/ivysettings.xml\n"
     ]
    },
    {
     "name": "stderr",
     "output_type": "stream",
     "text": [
      "Ivy Default Cache set to: /home/jupyter/.ivy2/cache\n",
      "The jars for the packages stored in: /home/jupyter/.ivy2/jars\n",
      "com.johnsnowlabs.nlp#spark-nlp_2.12 added as a dependency\n",
      ":: resolving dependencies :: org.apache.spark#spark-submit-parent-a8b0cede-0786-499c-aebd-9282070808e9;1.0\n",
      "\tconfs: [default]\n",
      "\tfound com.johnsnowlabs.nlp#spark-nlp_2.12;4.0.1 in central\n",
      "\tfound com.typesafe#config;1.4.2 in central\n",
      "\tfound org.rocksdb#rocksdbjni;6.29.5 in central\n",
      "\tfound com.amazonaws#aws-java-sdk-bundle;1.11.828 in central\n",
      "\tfound com.github.universal-automata#liblevenshtein;3.0.0 in central\n",
      "\tfound com.google.code.findbugs#annotations;3.0.1 in central\n",
      "\tfound net.jcip#jcip-annotations;1.0 in central\n",
      "\tfound com.google.code.findbugs#jsr305;3.0.1 in central\n",
      "\tfound com.google.protobuf#protobuf-java-util;3.0.0-beta-3 in central\n",
      "\tfound com.google.protobuf#protobuf-java;3.0.0-beta-3 in central\n",
      "\tfound com.google.code.gson#gson;2.3 in central\n",
      "\tfound it.unimi.dsi#fastutil;7.0.12 in central\n",
      "\tfound org.projectlombok#lombok;1.16.8 in central\n",
      "\tfound org.slf4j#slf4j-api;1.7.21 in central\n",
      "\tfound com.navigamez#greex;1.0 in central\n",
      "\tfound dk.brics.automaton#automaton;1.11-8 in central\n",
      "\tfound com.johnsnowlabs.nlp#tensorflow-cpu_2.12;0.4.2 in central\n",
      ":: resolution report :: resolve 493ms :: artifacts dl 19ms\n",
      "\t:: modules in use:\n",
      "\tcom.amazonaws#aws-java-sdk-bundle;1.11.828 from central in [default]\n",
      "\tcom.github.universal-automata#liblevenshtein;3.0.0 from central in [default]\n",
      "\tcom.google.code.findbugs#annotations;3.0.1 from central in [default]\n",
      "\tcom.google.code.findbugs#jsr305;3.0.1 from central in [default]\n",
      "\tcom.google.code.gson#gson;2.3 from central in [default]\n",
      "\tcom.google.protobuf#protobuf-java;3.0.0-beta-3 from central in [default]\n",
      "\tcom.google.protobuf#protobuf-java-util;3.0.0-beta-3 from central in [default]\n",
      "\tcom.johnsnowlabs.nlp#spark-nlp_2.12;4.0.1 from central in [default]\n",
      "\tcom.johnsnowlabs.nlp#tensorflow-cpu_2.12;0.4.2 from central in [default]\n",
      "\tcom.navigamez#greex;1.0 from central in [default]\n",
      "\tcom.typesafe#config;1.4.2 from central in [default]\n",
      "\tdk.brics.automaton#automaton;1.11-8 from central in [default]\n",
      "\tit.unimi.dsi#fastutil;7.0.12 from central in [default]\n",
      "\tnet.jcip#jcip-annotations;1.0 from central in [default]\n",
      "\torg.projectlombok#lombok;1.16.8 from central in [default]\n",
      "\torg.rocksdb#rocksdbjni;6.29.5 from central in [default]\n",
      "\torg.slf4j#slf4j-api;1.7.21 from central in [default]\n",
      "\t---------------------------------------------------------------------\n",
      "\t|                  |            modules            ||   artifacts   |\n",
      "\t|       conf       | number| search|dwnlded|evicted|| number|dwnlded|\n",
      "\t---------------------------------------------------------------------\n",
      "\t|      default     |   17  |   0   |   0   |   0   ||   17  |   0   |\n",
      "\t---------------------------------------------------------------------\n",
      ":: retrieving :: org.apache.spark#spark-submit-parent-a8b0cede-0786-499c-aebd-9282070808e9\n",
      "\tconfs: [default]\n",
      "\t0 artifacts copied, 17 already retrieved (0kB/13ms)\n"
     ]
    },
    {
     "name": "stdout",
     "output_type": "stream",
     "text": [
      "22/08/03 21:32:05 WARN NativeCodeLoader: Unable to load native-hadoop library for your platform... using builtin-java classes where applicable\n"
     ]
    },
    {
     "name": "stderr",
     "output_type": "stream",
     "text": [
      "Setting default log level to \"WARN\".\n",
      "To adjust logging level use sc.setLogLevel(newLevel). For SparkR, use setLogLevel(newLevel).\n"
     ]
    },
    {
     "name": "stdout",
     "output_type": "stream",
     "text": [
      "22/08/03 21:32:06 WARN Utils: Service 'SparkUI' could not bind on port 4040. Attempting port 4041.\n",
      "Spark NLP version:  4.0.1\n",
      "Apache Spark version:  3.3.0\n"
     ]
    },
    {
     "data": {
      "text/html": [
       "\n",
       "            <div>\n",
       "                <p><b>SparkSession - in-memory</b></p>\n",
       "                \n",
       "        <div>\n",
       "            <p><b>SparkContext</b></p>\n",
       "\n",
       "            <p><a href=\"http://ibm-capstone-2022.us-west1-b.c.capstone-2022-356719.internal:4041\">Spark UI</a></p>\n",
       "\n",
       "            <dl>\n",
       "              <dt>Version</dt>\n",
       "                <dd><code>v3.3.0</code></dd>\n",
       "              <dt>Master</dt>\n",
       "                <dd><code>local[*]</code></dd>\n",
       "              <dt>AppName</dt>\n",
       "                <dd><code>Spark NLP</code></dd>\n",
       "            </dl>\n",
       "        </div>\n",
       "        \n",
       "            </div>\n",
       "        "
      ],
      "text/plain": [
       "<pyspark.sql.session.SparkSession at 0x7fa8b49ac090>"
      ]
     },
     "execution_count": 2,
     "metadata": {},
     "output_type": "execute_result"
    }
   ],
   "source": [
    "import time\n",
    "\n",
    "import sparknlp\n",
    "from sparknlp.base import *\n",
    "from sparknlp.common import *\n",
    "from sparknlp.annotator import *\n",
    "\n",
    "from pyspark.sql import functions as func\n",
    "from pyspark.ml import Pipeline\n",
    "from pyspark.sql import SparkSession\n",
    "\n",
    "# https://github.com/JohnSnowLabs/spark-nlp\n",
    "# Start spark session\n",
    "spark=sparknlp.start()\n",
    "\n",
    "print(\"Spark NLP version: \", sparknlp.version())\n",
    "print(\"Apache Spark version: \", spark.version)\n",
    "\n",
    "spark"
   ]
  },
  {
   "cell_type": "code",
   "execution_count": 3,
   "id": "sBtwJGTJ0kJr",
   "metadata": {
    "id": "sBtwJGTJ0kJr"
   },
   "outputs": [],
   "source": [
    "# https://stackoverflow.com/questions/36786722/how-to-display-full-output-in-jupyter-not-only-last-result\n",
    "# Display full output in output cell, not only last result\n",
    "from IPython.core.interactiveshell import InteractiveShell\n",
    "InteractiveShell.ast_node_interactivity = 'all'"
   ]
  },
  {
   "cell_type": "code",
   "execution_count": 4,
   "id": "IhsmvKbm0kJs",
   "metadata": {
    "colab": {
     "base_uri": "https://localhost:8080/"
    },
    "id": "IhsmvKbm0kJs",
    "outputId": "6f03de7d-b595-47e7-ab02-6e87e6066c97"
   },
   "outputs": [
    {
     "data": {
      "text/plain": [
       "(60, 20)"
      ]
     },
     "execution_count": 4,
     "metadata": {},
     "output_type": "execute_result"
    }
   ],
   "source": [
    "import pandas as pd\n",
    "\n",
    "# https://www.kaggle.com/questions-and-answers/118932\n",
    "# Max rows and columns of pandas dataframe \n",
    "pd.options.display.max_rows,pd.options.display.max_columns\n",
    "\n",
    "# https://thispointer.com/python-pandas-how-to-display-full-dataframe-i-e-print-all-rows-columns-without-truncation/\n",
    "# Print all the contents of a pandas dataframe\n",
    "pd.set_option('display.max_rows', None) # Print unlimited number of rows by setting to None, default is 10\n",
    "pd.set_option('display.max_columns', None) # Do not truncate columns to display all of them by setting to None\n",
    "pd.set_option('display.width', None) # Auto-detect the width of dataframe to display all columns in single line by setting to None\n",
    "pd.set_option('display.max_colwidth', None) # Auto detect the max size of column and print contents of that column without truncated the contents"
   ]
  },
  {
   "cell_type": "markdown",
   "id": "TrZY-yVJjXV0",
   "metadata": {
    "id": "TrZY-yVJjXV0"
   },
   "source": [
    "### **Logistic Regression with TFIDF**\n",
    "- TFIDF=Term frequency-inverse document frequency"
   ]
  },
  {
   "cell_type": "markdown",
   "id": "K-R45Cewonbe",
   "metadata": {
    "id": "K-R45Cewonbe"
   },
   "source": [
    "#### **Pipeline, GridSearch and Cross Validation**"
   ]
  },
  {
   "cell_type": "code",
   "execution_count": 5,
   "id": "mPc2fovobXYw",
   "metadata": {
    "id": "mPc2fovobXYw"
   },
   "outputs": [],
   "source": [
    "# https://stackoverflow.com/questions/8924173/how-to-print-bold-text-in-python\n",
    "start = \"\\033[1m\" # Bold text\n",
    "end = \"\\033[0;0m\" # Reset \n",
    "\n",
    "from pyspark.ml.feature import HashingTF, IDF\n",
    "hashingTF = HashingTF(inputCol=\"token_features\", outputCol=\"rawFeatures\")\n",
    "idf = IDF(inputCol=\"rawFeatures\", outputCol=\"features\") \n",
    "\n",
    "from pyspark.ml.classification import LogisticRegression\n",
    "lr = LogisticRegression(labelCol='Recommended IND',weightCol='weightCol')\n",
    "\n",
    "# Configure an ML pipeline, which consists of three stages:\n",
    "pipeline_lr = Pipeline(stages=[hashingTF,idf,lr])\n",
    "\n",
    "# Tuning the model with the ParamGridBuilder and the CrossValidator\n",
    "from pyspark.ml.tuning import ParamGridBuilder, CrossValidator\n",
    "\n",
    "# Create ParamGrid for Cross Validation\n",
    "paramGrid_lr = (ParamGridBuilder()\n",
    "              .addGrid(hashingTF.numFeatures, [10,100,1000,10000])\n",
    "              .addGrid(idf.minDocFreq, [2,5])  # minDocFreq: remove sparse terms\n",
    "              .addGrid(lr.regParam, [0,0.01,0.3,0.5,2.0])\n",
    "              .addGrid(lr.elasticNetParam, [0.0, 0.5, 1.0]) # [0, 1]. For alpha = 0, the penalty is an L2 penalty. For alpha = 1, it is an L1 penalty\n",
    "              .addGrid(lr.maxIter, [1,5,10]) \n",
    "              .build())\n",
    "\n",
    "from pyspark.ml.evaluation import BinaryClassificationEvaluator\n",
    "binary_evaluator = BinaryClassificationEvaluator(labelCol='Recommended IND',metricName='areaUnderPR')\n",
    "\n",
    "cv_lr = CrossValidator(estimator=pipeline_lr, \n",
    "                       estimatorParamMaps=paramGrid_lr, \n",
    "                       evaluator=binary_evaluator, \n",
    "                       numFolds=3,\n",
    "                       parallelism=10,\n",
    "                       seed=42) # https://spark.apache.org/docs/latest/ml-tuning.html"
   ]
  },
  {
   "cell_type": "markdown",
   "id": "JeaP5dAKEWtT",
   "metadata": {
    "id": "JeaP5dAKEWtT"
   },
   "source": [
    "#### **Mount to Google Drive**\n",
    "*   On Google Cloud Vertex AI Workbench Jupyterlab Notebook, follow instructions:\n",
    "    - Either [this](https://stackoverflow.com/questions/61449536/mount-google-drive-from-ai-platform-notebook)\n",
    "    - Or this - [Terminal commands snapshot within the Google Cloud Platform Vertex AI Workbench Jupyterlab Notebook](https://github.com/wongkhoon/Coursera/blob/23ba493ec53d07aac6bfbcd2e4ec9cc3bd0bd779/Advanced%20Data%20Science%20with%20IBM/Advanced%20Data%20Science%20Capstone/GoogleCloudPlatform_VertexAI_Workbench_JupyterlabNotebook_Terminal_20220722.txt)\n",
    "<br>\n",
    "\n",
    "    in order to load train and test set parquet files from Google Drive in Google Cloud platform Vertex AI Jupyterlab notebook"
   ]
  },
  {
   "cell_type": "markdown",
   "id": "dEQglV_CXhY_",
   "metadata": {
    "id": "dEQglV_CXhY_"
   },
   "source": [
    "#### **Training**"
   ]
  },
  {
   "cell_type": "code",
   "execution_count": 6,
   "id": "jCQZMcVEXfsq",
   "metadata": {
    "colab": {
     "base_uri": "https://localhost:8080/"
    },
    "id": "jCQZMcVEXfsq",
    "outputId": "d17dfe9a-1d77-4c50-fe96-45c6f03acd8c"
   },
   "outputs": [
    {
     "name": "stderr",
     "output_type": "stream",
     "text": [
      "[Stage 1:>    (0 + 1) / 1][Stage 2:>    (0 + 1) / 1][Stage 3:>    (0 + 1) / 1]1]\r"
     ]
    },
    {
     "name": "stdout",
     "output_type": "stream",
     "text": [
      "22/08/03 21:32:30 WARN BlockManager: Block rdd_6_0 already exists on this machine; not re-adding it\n",
      "22/08/03 21:32:30 WARN BlockManager: Block rdd_6_0 already exists on this machine; not re-adding it\n",
      "22/08/03 21:32:30 WARN BlockManager: Block rdd_6_0 already exists on this machine; not re-adding it\n",
      "22/08/03 21:32:30 WARN BlockManager: Block rdd_6_0 already exists on this machine; not re-adding it\n",
      "22/08/03 21:32:30 WARN BlockManager: Block rdd_6_0 already exists on this machine; not re-adding it\n"
     ]
    },
    {
     "name": "stderr",
     "output_type": "stream",
     "text": [
      "[Stage 69:>   (0 + 1) / 1][Stage 72:>   (0 + 1) / 1][Stage 75:>   (0 + 1) / 1]1]\r"
     ]
    },
    {
     "name": "stdout",
     "output_type": "stream",
     "text": [
      "22/08/03 21:32:42 WARN BlockManager: Block rdd_499_0 already exists on this machine; not re-adding it\n"
     ]
    },
    {
     "name": "stderr",
     "output_type": "stream",
     "text": [
      "                                                                                \r"
     ]
    },
    {
     "name": "stdout",
     "output_type": "stream",
     "text": [
      "22/08/03 21:33:42 WARN BLAS: Failed to load implementation from: com.github.fommil.netlib.NativeSystemBLAS\n",
      "22/08/03 21:33:42 WARN BLAS: Failed to load implementation from: com.github.fommil.netlib.NativeRefBLAS\n"
     ]
    },
    {
     "name": "stderr",
     "output_type": "stream",
     "text": [
      "                                                                                \r"
     ]
    }
   ],
   "source": [
    "# To load\n",
    "train_nlp = spark.read.parquet('mnt/gdrivefs/Colab Notebooks/train_nlp.parquet')\n",
    "\n",
    "starttrain = time.time()\n",
    "cvModel_lr = cv_lr.fit(train_nlp)\n",
    "endtrain = time.time()"
   ]
  },
  {
   "cell_type": "code",
   "execution_count": 7,
   "id": "cf2f79a4-07ad-4617-b33c-e91dfb783ab5",
   "metadata": {},
   "outputs": [
    {
     "name": "stdout",
     "output_type": "stream",
     "text": [
      "\u001b[1m---- 3-fold cross validation for logistic regression with TFIDF ----\n",
      "\u001b[0;0m\n",
      "\u001b[1mTraining time taken in seconds:\u001b[0;0m 397.9566535949707\n"
     ]
    }
   ],
   "source": [
    "print(start+\"---- 3-fold cross validation for logistic regression with TFIDF ----\\n\"+end)\n",
    "print(start+\"Training time taken in seconds:\"+end,format(endtrain-starttrain))"
   ]
  },
  {
   "cell_type": "markdown",
   "id": "4plwrgThpVGN",
   "metadata": {
    "id": "4plwrgThpVGN"
   },
   "source": [
    "#### **Prediction**"
   ]
  },
  {
   "cell_type": "code",
   "execution_count": 8,
   "id": "ss_LpsDIpZOS",
   "metadata": {
    "colab": {
     "base_uri": "https://localhost:8080/"
    },
    "id": "ss_LpsDIpZOS",
    "outputId": "9507bc3d-ed74-462e-85e0-7ca9bb1b8092"
   },
   "outputs": [
    {
     "name": "stderr",
     "output_type": "stream",
     "text": [
      "[Stage 20127:>                                                      (0 + 1) / 1]\r"
     ]
    },
    {
     "name": "stdout",
     "output_type": "stream",
     "text": [
      "\u001b[1mPrediction time taken in seconds:\u001b[0;0m 0.08487296104431152\n"
     ]
    },
    {
     "name": "stderr",
     "output_type": "stream",
     "text": [
      "                                                                                \r"
     ]
    }
   ],
   "source": [
    "# To load\n",
    "test = spark.read.parquet('mnt/gdrivefs/Colab Notebooks/test.parquet')\n",
    "\n",
    "startpred = time.time()\n",
    "predictions_lr = cvModel_lr.transform(test)\n",
    "endpred = time.time()\n",
    "print(start+\"Prediction time taken in seconds:\"+end,format(endpred-startpred))"
   ]
  },
  {
   "cell_type": "markdown",
   "id": "U-uuHrY1ox1m",
   "metadata": {
    "id": "U-uuHrY1ox1m"
   },
   "source": [
    "#### **Best model parameters**"
   ]
  },
  {
   "cell_type": "code",
   "execution_count": 9,
   "id": "L92PWWknEhjE",
   "metadata": {
    "colab": {
     "base_uri": "https://localhost:8080/"
    },
    "id": "L92PWWknEhjE",
    "outputId": "cbf9be38-f49c-46bb-d042-9138ebe71764"
   },
   "outputs": [
    {
     "name": "stdout",
     "output_type": "stream",
     "text": [
      "\u001b[1mAll parameters:\u001b[0;0m\n",
      "aggregationDepth: suggested depth for treeAggregate (>= 2). (default: 2)\n",
      "elasticNetParam: the ElasticNet mixing parameter, in range [0, 1]. For alpha = 0, the penalty is an L2 penalty. For alpha = 1, it is an L1 penalty. (default: 0.0, current: 1.0)\n",
      "family: The name of family which is a description of the label distribution to be used in the model. Supported options: auto, binomial, multinomial (default: auto)\n",
      "featuresCol: features column name. (default: features)\n",
      "fitIntercept: whether to fit an intercept term. (default: True)\n",
      "labelCol: label column name. (default: label, current: Recommended IND)\n",
      "lowerBoundsOnCoefficients: The lower bounds on coefficients if fitting under bound constrained optimization. The bound matrix must be compatible with the shape (1, number of features) for binomial regression, or (number of classes, number of features) for multinomial regression. (undefined)\n",
      "lowerBoundsOnIntercepts: The lower bounds on intercepts if fitting under bound constrained optimization. The bounds vector size must beequal with 1 for binomial regression, or the number oflasses for multinomial regression. (undefined)\n",
      "maxBlockSizeInMB: maximum memory in MB for stacking input data into blocks. Data is stacked within partitions. If more than remaining data size in a partition then it is adjusted to the data size. Default 0.0 represents choosing optimal value, depends on specific algorithm. Must be >= 0. (default: 0.0)\n",
      "maxIter: max number of iterations (>= 0). (default: 100, current: 5)\n",
      "predictionCol: prediction column name. (default: prediction)\n",
      "probabilityCol: Column name for predicted class conditional probabilities. Note: Not all models output well-calibrated probability estimates! These probabilities should be treated as confidences, not precise probabilities. (default: probability)\n",
      "rawPredictionCol: raw prediction (a.k.a. confidence) column name. (default: rawPrediction)\n",
      "regParam: regularization parameter (>= 0). (default: 0.0, current: 0.01)\n",
      "standardization: whether to standardize the training features before fitting the model. (default: True)\n",
      "threshold: Threshold in binary classification prediction, in range [0, 1]. If threshold and thresholds are both set, they must match.e.g. if threshold is p, then thresholds must be equal to [1-p, p]. (default: 0.5)\n",
      "thresholds: Thresholds in multi-class classification to adjust the probability of predicting each class. Array must have length equal to the number of classes, with values > 0, excepting that at most one value may be 0. The class with largest value p/t is predicted, where p is the original probability of that class and t is the class's threshold. (undefined)\n",
      "tol: the convergence tolerance for iterative algorithms (>= 0). (default: 1e-06)\n",
      "upperBoundsOnCoefficients: The upper bounds on coefficients if fitting under bound constrained optimization. The bound matrix must be compatible with the shape (1, number of features) for binomial regression, or (number of classes, number of features) for multinomial regression. (undefined)\n",
      "upperBoundsOnIntercepts: The upper bounds on intercepts if fitting under bound constrained optimization. The bound vector size must be equal with 1 for binomial regression, or the number of classes for multinomial regression. (undefined)\n",
      "weightCol: weight column name. If this is not set or empty, we treat all instance weights as 1.0. (current: weightCol)\n"
     ]
    }
   ],
   "source": [
    "# https://www.ateam-oracle.com/post/multiclass-text-classification-crossvalidation-with-pyspark-pipelines\n",
    "bestModel_lr = cvModel_lr.bestModel\n",
    "print(start+'All parameters:'+end)\n",
    "print(bestModel_lr.stages[-1].explainParams())"
   ]
  },
  {
   "cell_type": "markdown",
   "id": "IJuYK9jro3sS",
   "metadata": {
    "id": "IJuYK9jro3sS",
    "tags": []
   },
   "source": [
    "#### **Evaluation metrics**"
   ]
  },
  {
   "cell_type": "code",
   "execution_count": 10,
   "id": "43e557af-6b3e-4b2c-8808-038fde788227",
   "metadata": {},
   "outputs": [
    {
     "name": "stderr",
     "output_type": "stream",
     "text": [
      "                                                                                \r"
     ]
    }
   ],
   "source": [
    "from pyspark.sql.functions import col\n",
    "from pyspark.sql.types import StringType\n",
    "\n",
    "sdf=predictions_lr.select(\"Recommended IND\",\"prediction\")\n",
    "\n",
    "# Convert to Pandas dataframe in order to generate confusion matrix and classification report                 \n",
    "pdf=sdf.toPandas()"
   ]
  },
  {
   "cell_type": "code",
   "execution_count": 11,
   "id": "971485fa-1cf0-4fe1-80d0-2b514c5e6efd",
   "metadata": {},
   "outputs": [
    {
     "data": {
      "text/plain": [
       "Text(0.5, 1.0, 'Confusion matrix: \\n Logistic regression with TFIDF')"
      ]
     },
     "execution_count": 11,
     "metadata": {},
     "output_type": "execute_result"
    },
    {
     "data": {
      "text/plain": [
       "Text(0.5, 15.0, 'Predicted Labels')"
      ]
     },
     "execution_count": 11,
     "metadata": {},
     "output_type": "execute_result"
    },
    {
     "data": {
      "text/plain": [
       "Text(33.0, 0.5, 'Actual Labels')"
      ]
     },
     "execution_count": 11,
     "metadata": {},
     "output_type": "execute_result"
    },
    {
     "data": {
      "text/plain": [
       "[Text(0, 0.5, 'Not recommended'), Text(0, 1.5, 'Recommended')]"
      ]
     },
     "execution_count": 11,
     "metadata": {},
     "output_type": "execute_result"
    },
    {
     "data": {
      "text/plain": [
       "[Text(0.5, 0, 'Not recommended'), Text(1.5, 0, 'Recommended')]"
      ]
     },
     "execution_count": 11,
     "metadata": {},
     "output_type": "execute_result"
    },
    {
     "data": {
      "image/png": "[encoded data removed]",
      "text/plain": [
       "<Figure size 432x288 with 1 Axes>"
      ]
     },
     "metadata": {
      "needs_background": "light"
     },
     "output_type": "display_data"
    }
   ],
   "source": [
    "from sklearn.metrics import confusion_matrix\n",
    "cm = confusion_matrix(pdf[\"Recommended IND\"],pdf[\"prediction\"])\n",
    "\n",
    "import seaborn as sns\n",
    "ax=sns.heatmap(cm, annot=True, fmt=\"d\",cbar=False, cmap=\"coolwarm\")\n",
    "ax.set_title(\"Confusion matrix: \\n Logistic regression with TFIDF\")\n",
    "ax.set_xlabel('Predicted Labels')\n",
    "ax.set_ylabel('Actual Labels')\n",
    "ax.yaxis.set_ticklabels(['Not recommended', 'Recommended'])\n",
    "ax.xaxis.set_ticklabels(['Not recommended', 'Recommended'])"
   ]
  },
  {
   "cell_type": "code",
   "execution_count": 12,
   "id": "a4a5eaa1-eb5e-4192-8f96-bb6d4a5b61b8",
   "metadata": {},
   "outputs": [
    {
     "name": "stdout",
     "output_type": "stream",
     "text": [
      "\u001b[1mClassification report:\u001b[0;0m\n",
      "                 precision    recall  f1-score   support\n",
      "\n",
      "Not recommended       0.69      0.90      0.78       208\n",
      "    Recommended       0.98      0.91      0.94       944\n",
      "\n",
      "       accuracy                           0.91      1152\n",
      "      macro avg       0.84      0.91      0.86      1152\n",
      "   weighted avg       0.93      0.91      0.91      1152\n",
      "\n"
     ]
    }
   ],
   "source": [
    "from sklearn.metrics import classification_report\n",
    "print(start+\"Classification report:\"+end)\n",
    "print(classification_report(pdf[\"Recommended IND\"],pdf[\"prediction\"],target_names=[\"Not recommended\",\"Recommended\"]))"
   ]
  },
  {
   "cell_type": "code",
   "execution_count": 13,
   "id": "cw1id4uLCmhu",
   "metadata": {
    "colab": {
     "base_uri": "https://localhost:8080/"
    },
    "id": "cw1id4uLCmhu",
    "outputId": "0f9e9f01-7394-4005-e93c-1d6b54cd16e9"
   },
   "outputs": [
    {
     "name": "stderr",
     "output_type": "stream",
     "text": [
      "[Stage 20138:>                                                      (0 + 1) / 1]\r"
     ]
    },
    {
     "name": "stdout",
     "output_type": "stream",
     "text": [
      "Area under the receiver operating characteristic (ROC) curve = 0.9556\n",
      "Area under the precision-recall curve                        = 0.9895\n"
     ]
    },
    {
     "name": "stderr",
     "output_type": "stream",
     "text": [
      "                                                                                \r"
     ]
    }
   ],
   "source": [
    "auc_lr = binary_evaluator.evaluate(predictions_lr, {binary_evaluator.metricName: \"areaUnderROC\"}) #https://spark.apache.org/docs/latest/api/python/reference/api/pyspark.mllib.evaluation.BinaryClassificationMetrics.html\n",
    "aucPR_lr = binary_evaluator.evaluate(predictions_lr, {binary_evaluator.metricName: \"areaUnderPR\"})\n",
    "\n",
    "print('Area under the receiver operating characteristic (ROC) curve = {:.4f}\\nArea under the precision-recall curve                        = {:.4f}'.format(auc_lr,aucPR_lr))"
   ]
  }
 ],
 "metadata": {
  "accelerator": "GPU",
  "colab": {
   "collapsed_sections": [],
   "name": "LR_TFIDF.ipynb",
   "provenance": [],
   "toc_visible": true
  },
  "environment": {
   "kernel": "python3",
   "name": "common-cpu.m94",
   "type": "gcloud",
   "uri": "gcr.io/deeplearning-platform-release/base-cpu:m94"
  },
  "gpuClass": "standard",
  "kernelspec": {
   "display_name": "Python 3",
   "language": "python",
   "name": "python3"
  },
  "language_info": {
   "codemirror_mode": {
    "name": "ipython",
    "version": 3
   },
   "file_extension": ".py",
   "mimetype": "text/x-python",
   "name": "python",
   "nbconvert_exporter": "python",
   "pygments_lexer": "ipython3",
   "version": "3.7.12"
  }
 },
 "nbformat": 4,
 "nbformat_minor": 5
}
