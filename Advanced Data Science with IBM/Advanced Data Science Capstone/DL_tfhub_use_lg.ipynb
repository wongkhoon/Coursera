{
 "cells": [
  {
   "cell_type": "markdown",
   "metadata": {
    "id": "S70Um5D70kJq"
   },
   "source": [
    "### **Set working environment** "
   ]
  },
  {
   "cell_type": "code",
   "execution_count": 1,
   "metadata": {
    "colab": {
     "base_uri": "https://localhost:8080/"
    },
    "id": "N4V47Dcj0kJq",
    "outputId": "85db87c7-db43-47bc-dbe2-39180486eec3"
   },
   "outputs": [],
   "source": [
    "# Install Spark NLP from PyPI\n",
    "!pip install -q spark-nlp==4.0.1 pyspark==3.3.0"
   ]
  },
  {
   "cell_type": "markdown",
   "metadata": {},
   "source": [
    "To enable Spark session on Google Cloud Vertex AI Workbench Jupyterlab Notebook, follow the steps as follows or refer [here](https://stackoverflow.com/questions/73047089/how-to-start-spark-session-on-vertex-ai-workbench-jupyterlab-notebook/73061535?noredirect=1#comment129061260_73061535).\n",
    "\n",
    "Sign in to Google Cloud Platform [here](https://www.google.com/url?sa=t&rct=j&q=&esrc=s&source=web&cd=&cad=rja&uact=8&ved=2ahUKEwiT9svnmaX5AhVl7jgGHfxgBQYQFnoECAUQAQ&url=https%3A%2F%2Fconsole.cloud.google.com%2F&usg=AOvVaw1GxwHR1WZnDu0xsR-djCrv). Upon sign-in, on the Google Cloud console mainpage, go to ARTIFICIAL INTELLIGENCE section from the Navigation menu (denoted by 3 short horizontal solid lines) on the left panel and select Vertex AI then select Workbench. \n",
    "<br>Next, select USER-MANAGED-NOTEBOOK tab on the top panel to create Jupyterlab notebook. \n",
    "<br>Follow the following steps inside the notebook after creating the notebook. That is,\n",
    "go to File->New->Terminal and run the following two commands in the Terminal:\n",
    "<br>`sudo apt-get update`\n",
    "<br>`sudo apt-get install default-jdk`\n",
    "\n",
    "Lastly, verify if Java is installed with version by running this command: `java --version`."
   ]
  },
  {
   "cell_type": "code",
   "execution_count": 2,
   "metadata": {
    "colab": {
     "base_uri": "https://localhost:8080/",
     "height": 258
    },
    "id": "SOqB-vUU0kJq",
    "outputId": "519040a6-c422-484a-d225-0a1bcf9f1d0a"
   },
   "outputs": [
    {
     "name": "stdout",
     "output_type": "stream",
     "text": [
      ":: loading settings :: url = jar:file:/opt/conda/lib/python3.7/site-packages/pyspark/jars/ivy-2.5.0.jar!/org/apache/ivy/core/settings/ivysettings.xml\n"
     ]
    },
    {
     "name": "stderr",
     "output_type": "stream",
     "text": [
      "Ivy Default Cache set to: /home/jupyter/.ivy2/cache\n",
      "The jars for the packages stored in: /home/jupyter/.ivy2/jars\n",
      "com.johnsnowlabs.nlp#spark-nlp_2.12 added as a dependency\n",
      ":: resolving dependencies :: org.apache.spark#spark-submit-parent-b644aea6-f060-4aad-85cf-8b3fc087800e;1.0\n",
      "\tconfs: [default]\n",
      "\tfound com.johnsnowlabs.nlp#spark-nlp_2.12;4.0.1 in central\n",
      "\tfound com.typesafe#config;1.4.2 in central\n",
      "\tfound org.rocksdb#rocksdbjni;6.29.5 in central\n",
      "\tfound com.amazonaws#aws-java-sdk-bundle;1.11.828 in central\n",
      "\tfound com.github.universal-automata#liblevenshtein;3.0.0 in central\n",
      "\tfound com.google.code.findbugs#annotations;3.0.1 in central\n",
      "\tfound net.jcip#jcip-annotations;1.0 in central\n",
      "\tfound com.google.code.findbugs#jsr305;3.0.1 in central\n",
      "\tfound com.google.protobuf#protobuf-java-util;3.0.0-beta-3 in central\n",
      "\tfound com.google.protobuf#protobuf-java;3.0.0-beta-3 in central\n",
      "\tfound com.google.code.gson#gson;2.3 in central\n",
      "\tfound it.unimi.dsi#fastutil;7.0.12 in central\n",
      "\tfound org.projectlombok#lombok;1.16.8 in central\n",
      "\tfound org.slf4j#slf4j-api;1.7.21 in central\n",
      "\tfound com.navigamez#greex;1.0 in central\n",
      "\tfound dk.brics.automaton#automaton;1.11-8 in central\n",
      "\tfound com.johnsnowlabs.nlp#tensorflow-cpu_2.12;0.4.2 in central\n",
      ":: resolution report :: resolve 519ms :: artifacts dl 26ms\n",
      "\t:: modules in use:\n",
      "\tcom.amazonaws#aws-java-sdk-bundle;1.11.828 from central in [default]\n",
      "\tcom.github.universal-automata#liblevenshtein;3.0.0 from central in [default]\n",
      "\tcom.google.code.findbugs#annotations;3.0.1 from central in [default]\n",
      "\tcom.google.code.findbugs#jsr305;3.0.1 from central in [default]\n",
      "\tcom.google.code.gson#gson;2.3 from central in [default]\n",
      "\tcom.google.protobuf#protobuf-java;3.0.0-beta-3 from central in [default]\n",
      "\tcom.google.protobuf#protobuf-java-util;3.0.0-beta-3 from central in [default]\n",
      "\tcom.johnsnowlabs.nlp#spark-nlp_2.12;4.0.1 from central in [default]\n",
      "\tcom.johnsnowlabs.nlp#tensorflow-cpu_2.12;0.4.2 from central in [default]\n",
      "\tcom.navigamez#greex;1.0 from central in [default]\n",
      "\tcom.typesafe#config;1.4.2 from central in [default]\n",
      "\tdk.brics.automaton#automaton;1.11-8 from central in [default]\n",
      "\tit.unimi.dsi#fastutil;7.0.12 from central in [default]\n",
      "\tnet.jcip#jcip-annotations;1.0 from central in [default]\n",
      "\torg.projectlombok#lombok;1.16.8 from central in [default]\n",
      "\torg.rocksdb#rocksdbjni;6.29.5 from central in [default]\n",
      "\torg.slf4j#slf4j-api;1.7.21 from central in [default]\n",
      "\t---------------------------------------------------------------------\n",
      "\t|                  |            modules            ||   artifacts   |\n",
      "\t|       conf       | number| search|dwnlded|evicted|| number|dwnlded|\n",
      "\t---------------------------------------------------------------------\n",
      "\t|      default     |   17  |   0   |   0   |   0   ||   17  |   0   |\n",
      "\t---------------------------------------------------------------------\n",
      ":: retrieving :: org.apache.spark#spark-submit-parent-b644aea6-f060-4aad-85cf-8b3fc087800e\n",
      "\tconfs: [default]\n",
      "\t0 artifacts copied, 17 already retrieved (0kB/12ms)\n"
     ]
    },
    {
     "name": "stdout",
     "output_type": "stream",
     "text": [
      "22/08/04 12:48:05 WARN NativeCodeLoader: Unable to load native-hadoop library for your platform... using builtin-java classes where applicable\n"
     ]
    },
    {
     "name": "stderr",
     "output_type": "stream",
     "text": [
      "Setting default log level to \"WARN\".\n",
      "To adjust logging level use sc.setLogLevel(newLevel). For SparkR, use setLogLevel(newLevel).\n"
     ]
    },
    {
     "name": "stdout",
     "output_type": "stream",
     "text": [
      "Spark NLP version:  4.0.1\n",
      "Apache Spark version:  3.3.0\n"
     ]
    },
    {
     "data": {
      "text/html": [
       "\n",
       "            <div>\n",
       "                <p><b>SparkSession - in-memory</b></p>\n",
       "                \n",
       "        <div>\n",
       "            <p><b>SparkContext</b></p>\n",
       "\n",
       "            <p><a href=\"http://ibm-capstone-2022.us-west1-b.c.capstone-2022-356719.internal:4040\">Spark UI</a></p>\n",
       "\n",
       "            <dl>\n",
       "              <dt>Version</dt>\n",
       "                <dd><code>v3.3.0</code></dd>\n",
       "              <dt>Master</dt>\n",
       "                <dd><code>local[*]</code></dd>\n",
       "              <dt>AppName</dt>\n",
       "                <dd><code>Spark NLP</code></dd>\n",
       "            </dl>\n",
       "        </div>\n",
       "        \n",
       "            </div>\n",
       "        "
      ],
      "text/plain": [
       "<pyspark.sql.session.SparkSession at 0x7f07306a8050>"
      ]
     },
     "execution_count": 2,
     "metadata": {},
     "output_type": "execute_result"
    }
   ],
   "source": [
    "# Import libraries\n",
    "import time\n",
    "\n",
    "import sparknlp\n",
    "from sparknlp.base import *\n",
    "from sparknlp.common import *\n",
    "from sparknlp.annotator import *\n",
    "\n",
    "from pyspark.sql import functions as func\n",
    "from pyspark.ml import Pipeline\n",
    "from pyspark.sql import SparkSession\n",
    "\n",
    "# https://github.com/JohnSnowLabs/spark-nlp\n",
    "# Start spark session\n",
    "spark=sparknlp.start() \n",
    "\n",
    "print(\"Spark NLP version: \", sparknlp.version())\n",
    "print(\"Apache Spark version: \", spark.version)\n",
    "\n",
    "spark"
   ]
  },
  {
   "cell_type": "code",
   "execution_count": 3,
   "metadata": {
    "id": "sBtwJGTJ0kJr"
   },
   "outputs": [],
   "source": [
    "# https://stackoverflow.com/questions/36786722/how-to-display-full-output-in-jupyter-not-only-last-result\n",
    "# Display full output in output cell, not only last result\n",
    "from IPython.core.interactiveshell import InteractiveShell\n",
    "InteractiveShell.ast_node_interactivity = 'all'"
   ]
  },
  {
   "cell_type": "code",
   "execution_count": 4,
   "metadata": {
    "colab": {
     "base_uri": "https://localhost:8080/"
    },
    "id": "IhsmvKbm0kJs",
    "outputId": "adc127f7-5d0d-4efb-930f-dbeaf45d8d4f"
   },
   "outputs": [
    {
     "data": {
      "text/plain": [
       "(60, 20)"
      ]
     },
     "execution_count": 4,
     "metadata": {},
     "output_type": "execute_result"
    }
   ],
   "source": [
    "import pandas as pd\n",
    "\n",
    "# https://www.kaggle.com/questions-and-answers/118932\n",
    "# Max rows and columns of pandas dataframe \n",
    "pd.options.display.max_rows,pd.options.display.max_columns\n",
    "\n",
    "# https://thispointer.com/python-pandas-how-to-display-full-dataframe-i-e-print-all-rows-columns-without-truncation/\n",
    "# Print all the contents of a pandas dataframe\n",
    "pd.set_option('display.max_rows', None) # Print unlimited number of rows by setting to None, default is 10\n",
    "pd.set_option('display.max_columns', None) # Do not truncate columns to display all of them by setting to None\n",
    "pd.set_option('display.width', None) # Auto-detect the width of dataframe to display all columns in single line by setting to None\n",
    "pd.set_option('display.max_colwidth', None) # Auto detect the max size of column and print contents of that column without truncated the contents"
   ]
  },
  {
   "cell_type": "markdown",
   "metadata": {
    "id": "IflvUnFw91iz"
   },
   "source": [
    "### **Mount to Google Drive**\n",
    "*   Within Google Cloud Vertex AI Workbench Jupyterlab Notebook, follow:\n",
    "    - https://stackoverflow.com/questions/61449536/mount-google-drive-from-ai-platform-notebook\n",
    "    - [Screenshot](https://github.com/wongkhoon/Coursera/blob/main/Advanced%20Data%20Science%20with%20IBM/Advanced%20Data%20Science%20Capstone/GoogleCloudPlatform_VertexAI_Workbench_JupyterlabNotebook_Terminal_20220722.txt) \n",
    "<br>\n",
    "\n",
    "    in order to load train and test set parquet files from Google Drive in Google Cloud Platform Vertex AI Jupyterlab Notebook"
   ]
  },
  {
   "cell_type": "markdown",
   "metadata": {
    "id": "YJkA9NMwAn0B"
   },
   "source": [
    "### **Deep learning algorithm**\n",
    "*   **ClassifierDL with transformer based Universal Sentence Embeddings by Spark NLP<sup>[1](https://towardsdatascience.com/text-classification-in-spark-nlp-with-bert-and-universal-sentence-encoders-e644d618ca32)</sup>**\n",
    "<br> -  ClassifierDL uses the state-of-the-art Universal Sentence Encoder as an input for text classifications. The ClassifierDL annotator uses a deep learning model (DNNs) Spark NPL team has built inside TensorFlow and supports up to 100 classes.<sup>[2](https://nlp.johnsnowlabs.com/api/com/johnsnowlabs/nlp/annotators/classifier/dl/ClassifierDLApproach)</sup> \n",
    "<br> -  The Universal Sentence Encoder encodes text into high dimensional vectors that can be used for text classification, semantic similarity, clustering and other natural language tasks.<sup>[3,](https://nlp.johnsnowlabs.com/2020/04/17/tfhub_use.html)</sup> <sup>[4](https://nlp.johnsnowlabs.com/docs/en/transformers)</sup>\n",
    "<br> -  The model is trained and optimized for greater-than-word length text, such as sentences, phrases or short paragraphs. It is trained on a variety of data sources and a variety of tasks with the aim of dynamically accommodating a wide variety of natural language understanding tasks. The input is variable length English text and the output is a 512 dimensional vector. The universal-sentence-encoder-large model is trained with a Transformer encoder.<sup>[5](https://tfhub.dev/google/universal-sentence-encoder-large/5)</sup>\n",
    "\n"
   ]
  },
  {
   "cell_type": "code",
   "execution_count": 5,
   "metadata": {
    "colab": {
     "base_uri": "https://localhost:8080/"
    },
    "id": "ilG8tWL5Aqsc",
    "outputId": "8964539e-ba6a-481e-c01b-5778d5b82a4f"
   },
   "outputs": [
    {
     "name": "stdout",
     "output_type": "stream",
     "text": [
      "tfhub_use_lg download started this may take some time.\n",
      "Approximate size to download 753.3 MB\n",
      "[ | ]tfhub_use_lg download started this may take some time.\n",
      "Approximate size to download 753.3 MB\n",
      "Download done! Loading the resource.\n",
      "[ | ]"
     ]
    },
    {
     "name": "stderr",
     "output_type": "stream",
     "text": [
      "2022-08-04 12:48:31.237597: I external/org_tensorflow/tensorflow/core/platform/cpu_feature_guard.cc:151] This TensorFlow binary is optimized with oneAPI Deep Neural Network Library (oneDNN) to use the following CPU instructions in performance-critical operations:  AVX2 FMA\n",
      "To enable them in other operations, rebuild TensorFlow with the appropriate compiler flags.\n"
     ]
    },
    {
     "name": "stdout",
     "output_type": "stream",
     "text": [
      "[ — ]"
     ]
    },
    {
     "name": "stderr",
     "output_type": "stream",
     "text": [
      "WARNING: An illegal reflective access operation has occurred\n",
      "WARNING: Illegal reflective access by org.apache.spark.util.SizeEstimator$ (file:/opt/conda/lib/python3.7/site-packages/pyspark/jars/spark-core_2.12-3.3.0.jar) to field java.lang.ref.Reference.referent\n",
      "WARNING: Please consider reporting this to the maintainers of org.apache.spark.util.SizeEstimator$\n",
      "WARNING: Use --illegal-access=warn to enable warnings of further illegal reflective access operations\n",
      "WARNING: All illegal access operations will be denied in a future release\n"
     ]
    },
    {
     "name": "stdout",
     "output_type": "stream",
     "text": [
      "[OK!]\n"
     ]
    }
   ],
   "source": [
    "start = \"\\033[1m\" # Bold text\n",
    "end = \"\\033[0;0m\" # Reset \n",
    "\n",
    "documentAssembler = DocumentAssembler() \\\n",
    "      .setInputCol(\"text\") \\\n",
    "      .setOutputCol(\"document\")\n",
    "      \n",
    "# Tranformer based universal encoding model\n",
    "useEmbeddings = UniversalSentenceEncoder.pretrained(name=\"tfhub_use_lg\", lang=\"en\")\\\n",
    "              .setInputCols(\"document\")\\\n",
    "              .setOutputCol(\"use_embeddings\")\n",
    "\n",
    "# https://nlp.johnsnowlabs.com/api/python/reference/autosummary/sparknlp/annotator/classifier_dl/classifier_dl/index.html#sparknlp.annotator.classifier_dl.classifier_dl.ClassifierDLApproach\n",
    "# https://nlp.johnsnowlabs.com/api/com/johnsnowlabs/nlp/EmbeddingsFinisher\n",
    "\n",
    "# Default paramaters:\n",
    "classsifierdl = ClassifierDLApproach()\\\n",
    "              .setInputCols([\"use_embeddings\"])\\\n",
    "              .setOutputCol(\"class\")\\\n",
    "              .setLabelColumn(\"Recommended IND\")\\\n",
    "              .setRandomSeed(42)\\\n",
    "              .setEnableOutputLogs(True)\n",
    "\n",
    "use_pipeline = Pipeline(stages=[documentAssembler,useEmbeddings,classsifierdl])"
   ]
  },
  {
   "cell_type": "markdown",
   "metadata": {},
   "source": [
    "Above warnings are safe to disregard according to https://lists.apache.org/thread/0b2g6pn2f65c8xc12jfhkk8c8otsgvhc"
   ]
  },
  {
   "cell_type": "markdown",
   "metadata": {},
   "source": [
    "#### **Mount to Google Drive**\n",
    "*   On Google Cloud Vertex AI Workbench Jupyterlab Notebook, follow instructions:\n",
    "    - Either [this](https://stackoverflow.com/questions/61449536/mount-google-drive-from-ai-platform-notebook)\n",
    "    - Or this - [Terminal commands snapshot within the Google Cloud Platform Vertex AI Workbench Jupyterlab Notebook](https://github.com/wongkhoon/Coursera/blob/23ba493ec53d07aac6bfbcd2e4ec9cc3bd0bd779/Advanced%20Data%20Science%20with%20IBM/Advanced%20Data%20Science%20Capstone/GoogleCloudPlatform_VertexAI_Workbench_JupyterlabNotebook_Terminal_20220722.txt)\n",
    "<br>\n",
    "\n",
    "    in order to load train and test set parquet files from Google Drive in Google Cloud platform Vertex AI Jupyterlab Notebook"
   ]
  },
  {
   "cell_type": "markdown",
   "metadata": {
    "id": "idnjcGKTOooj",
    "tags": []
   },
   "source": [
    "#### **Training**\n",
    "*   Default hyperparameters\n",
    "\n",
    "\n"
   ]
  },
  {
   "cell_type": "code",
   "execution_count": 6,
   "metadata": {
    "colab": {
     "base_uri": "https://localhost:8080/"
    },
    "id": "mWrdcKi2AsjT",
    "outputId": "4ea05aa6-6ba0-4b71-ae2a-c2f0485923f0"
   },
   "outputs": [
    {
     "name": "stderr",
     "output_type": "stream",
     "text": [
      "2022-08-04 12:52:05.955078: I external/org_tensorflow/tensorflow/cc/saved_model/reader.cc:43] Reading SavedModel from: /tmp/2f98093113b9_classifier_dl17673851895214317633\n",
      "2022-08-04 12:52:06.033280: I external/org_tensorflow/tensorflow/cc/saved_model/reader.cc:107] Reading meta graph with tags { serve }\n",
      "2022-08-04 12:52:06.033359: I external/org_tensorflow/tensorflow/cc/saved_model/reader.cc:148] Reading SavedModel debug info (if present) from: /tmp/2f98093113b9_classifier_dl17673851895214317633\n",
      "2022-08-04 12:52:06.631729: I external/org_tensorflow/tensorflow/cc/saved_model/loader.cc:228] Restoring SavedModel bundle.\n",
      "2022-08-04 12:52:07.938914: I external/org_tensorflow/tensorflow/cc/saved_model/loader.cc:212] Running initialization op on SavedModel bundle at path: /tmp/2f98093113b9_classifier_dl17673851895214317633\n",
      "2022-08-04 12:52:08.136667: I external/org_tensorflow/tensorflow/cc/saved_model/loader.cc:301] SavedModel load for tags { serve }; Status: success: OK. Took 2181606 microseconds.\n",
      "                                                                                \r"
     ]
    },
    {
     "name": "stdout",
     "output_type": "stream",
     "text": [
      "Training started - epochs: 30 - learning_rate: 0.005 - batch_size: 64 - training_examples: 4846 - classes: 2\n",
      "Epoch 1/30 - 0.90s - loss: 37.158993 - acc: 0.82206523 - batches: 76\n",
      "Epoch 2/30 - 0.51s - loss: 36.807884 - acc: 0.8324819 - batches: 76\n",
      "Epoch 3/30 - 0.51s - loss: 36.807884 - acc: 0.8324819 - batches: 76\n",
      "Epoch 4/30 - 0.51s - loss: 36.807884 - acc: 0.8324819 - batches: 76\n",
      "Epoch 5/30 - 0.50s - loss: 36.807884 - acc: 0.8324819 - batches: 76\n",
      "Epoch 6/30 - 0.54s - loss: 36.807884 - acc: 0.8324819 - batches: 76\n",
      "Epoch 7/30 - 0.51s - loss: 36.807884 - acc: 0.8324819 - batches: 76\n",
      "Epoch 8/30 - 0.50s - loss: 36.807884 - acc: 0.8324819 - batches: 76\n",
      "Epoch 9/30 - 0.51s - loss: 36.807884 - acc: 0.8324819 - batches: 76\n",
      "Epoch 10/30 - 0.50s - loss: 36.807884 - acc: 0.8324819 - batches: 76\n",
      "Epoch 11/30 - 0.51s - loss: 36.807884 - acc: 0.8324819 - batches: 76\n",
      "Epoch 12/30 - 0.52s - loss: 36.807884 - acc: 0.8324819 - batches: 76\n",
      "Epoch 13/30 - 0.49s - loss: 36.807884 - acc: 0.8324819 - batches: 76\n",
      "Epoch 14/30 - 0.49s - loss: 36.807884 - acc: 0.8324819 - batches: 76\n",
      "Epoch 15/30 - 0.49s - loss: 36.807884 - acc: 0.8324819 - batches: 76\n",
      "Epoch 16/30 - 0.49s - loss: 36.807884 - acc: 0.8324819 - batches: 76\n",
      "Epoch 17/30 - 0.49s - loss: 36.807884 - acc: 0.8324819 - batches: 76\n",
      "Epoch 18/30 - 0.51s - loss: 36.807884 - acc: 0.8324819 - batches: 76\n",
      "Epoch 19/30 - 0.49s - loss: 36.807884 - acc: 0.8324819 - batches: 76\n",
      "Epoch 20/30 - 0.49s - loss: 36.807884 - acc: 0.8324819 - batches: 76\n",
      "Epoch 21/30 - 0.49s - loss: 36.807884 - acc: 0.8324819 - batches: 76\n",
      "Epoch 22/30 - 0.49s - loss: 36.807884 - acc: 0.8324819 - batches: 76\n",
      "Epoch 23/30 - 0.50s - loss: 36.807884 - acc: 0.8324819 - batches: 76\n",
      "Epoch 24/30 - 0.50s - loss: 36.807884 - acc: 0.8324819 - batches: 76\n",
      "Epoch 25/30 - 0.51s - loss: 36.807884 - acc: 0.8324819 - batches: 76\n",
      "Epoch 26/30 - 0.50s - loss: 36.807884 - acc: 0.8324819 - batches: 76\n",
      "Epoch 27/30 - 0.49s - loss: 36.807884 - acc: 0.8324819 - batches: 76\n",
      "Epoch 28/30 - 0.50s - loss: 36.807884 - acc: 0.8324819 - batches: 76\n",
      "Epoch 29/30 - 0.49s - loss: 36.807884 - acc: 0.8324819 - batches: 76\n",
      "Epoch 30/30 - 0.50s - loss: 36.807884 - acc: 0.8324819 - batches: 76\n"
     ]
    }
   ],
   "source": [
    "# To load\n",
    "train_txt = spark.read.parquet('mnt/gdrivefs/Colab Notebooks/train_txt.parquet')\n",
    "\n",
    "starttrain = time.time()\n",
    "use_pipelineModel = use_pipeline.fit(train_txt)\n",
    "endtrain = time.time()"
   ]
  },
  {
   "cell_type": "code",
   "execution_count": 7,
   "metadata": {},
   "outputs": [
    {
     "name": "stdout",
     "output_type": "stream",
     "text": [
      "\u001b[1m---- ClassifierDL with transformer-based Universal Sentence Embeddings ----\n",
      "\u001b[0;0m\n",
      "Training time taken in seconds: 420.804\n"
     ]
    }
   ],
   "source": [
    "print(start+\"---- ClassifierDL with transformer-based Universal Sentence Embeddings ----\\n\"+end)\n",
    "print('Training time taken in seconds: {}'.format(round(endtrain-starttrain,4)))"
   ]
  },
  {
   "cell_type": "markdown",
   "metadata": {
    "id": "EwbW4-9hO-yz"
   },
   "source": [
    "#### **Prediction**"
   ]
  },
  {
   "cell_type": "code",
   "execution_count": 8,
   "metadata": {
    "colab": {
     "base_uri": "https://localhost:8080/"
    },
    "id": "0Xr3hJnxAsl2",
    "outputId": "a1e0930f-1c3b-4a2f-91fc-553aa6f0123d"
   },
   "outputs": [
    {
     "name": "stderr",
     "output_type": "stream",
     "text": [
      "                                                                                \r"
     ]
    },
    {
     "name": "stdout",
     "output_type": "stream",
     "text": [
      "\u001b[1mPrediction time taken in seconds:\u001b[0;0m 0.5466587543487549\n"
     ]
    }
   ],
   "source": [
    "# To load\n",
    "test = spark.read.parquet('mnt/gdrivefs/Colab Notebooks/test.parquet')\n",
    "\n",
    "startpred = time.time()\n",
    "predictions_use=use_pipelineModel.transform(test)\n",
    "endpred = time.time()\n",
    "print(start+\"Prediction time taken in seconds:\"+end,format(endpred-startpred))\n",
    "\n",
    "# https://stackoverflow.com/questions/62643843/explode-array-values-using-pyspark\n",
    "from pyspark.sql.functions import col\n",
    "from pyspark.sql.types import DoubleType\n",
    "# Explode the array and get the item(s) inside of result column out\n",
    "# Keep only 2 columns: Recommended IND (actual) and prediction\n",
    "# Convert to double else .evaluate will throw error\n",
    "predictions_use=predictions_use.select('class','Recommended IND').selectExpr(\"*\",\"explode(class)\").select(\"*\",\"col.*\").drop(*['col','class']) \\\n",
    "            .select('Recommended IND','result').withColumnRenamed(\"result\",\"prediction\") \\\n",
    "            .withColumn(\"prediction\" , col(\"prediction\").cast(DoubleType())) "
   ]
  },
  {
   "cell_type": "markdown",
   "metadata": {
    "id": "YOR7nI6kPGNR"
   },
   "source": [
    "#### **Evaluation metrics**"
   ]
  },
  {
   "cell_type": "code",
   "execution_count": 9,
   "metadata": {},
   "outputs": [
    {
     "name": "stdout",
     "output_type": "stream",
     "text": [
      "22/08/04 12:55:52 WARN package: Truncated the string representation of a plan since it was too large. This behavior can be adjusted by setting 'spark.sql.debug.maxToStringFields'.\n"
     ]
    },
    {
     "name": "stderr",
     "output_type": "stream",
     "text": [
      "                                                                                \r"
     ]
    },
    {
     "data": {
      "text/html": [
       "<div>\n",
       "<style scoped>\n",
       "    .dataframe tbody tr th:only-of-type {\n",
       "        vertical-align: middle;\n",
       "    }\n",
       "\n",
       "    .dataframe tbody tr th {\n",
       "        vertical-align: top;\n",
       "    }\n",
       "\n",
       "    .dataframe thead th {\n",
       "        text-align: right;\n",
       "    }\n",
       "</style>\n",
       "<table border=\"1\" class=\"dataframe\">\n",
       "  <thead>\n",
       "    <tr style=\"text-align: right;\">\n",
       "      <th></th>\n",
       "      <th>Recommended IND</th>\n",
       "      <th>prediction</th>\n",
       "    </tr>\n",
       "  </thead>\n",
       "  <tbody>\n",
       "    <tr>\n",
       "      <th>475</th>\n",
       "      <td>1</td>\n",
       "      <td>1.0</td>\n",
       "    </tr>\n",
       "    <tr>\n",
       "      <th>572</th>\n",
       "      <td>1</td>\n",
       "      <td>1.0</td>\n",
       "    </tr>\n",
       "    <tr>\n",
       "      <th>612</th>\n",
       "      <td>1</td>\n",
       "      <td>1.0</td>\n",
       "    </tr>\n",
       "    <tr>\n",
       "      <th>417</th>\n",
       "      <td>0</td>\n",
       "      <td>1.0</td>\n",
       "    </tr>\n",
       "    <tr>\n",
       "      <th>589</th>\n",
       "      <td>1</td>\n",
       "      <td>1.0</td>\n",
       "    </tr>\n",
       "  </tbody>\n",
       "</table>\n",
       "</div>"
      ],
      "text/plain": [
       "     Recommended IND  prediction\n",
       "475                1         1.0\n",
       "572                1         1.0\n",
       "612                1         1.0\n",
       "417                0         1.0\n",
       "589                1         1.0"
      ]
     },
     "execution_count": 9,
     "metadata": {},
     "output_type": "execute_result"
    }
   ],
   "source": [
    "from pyspark.sql.functions import col\n",
    "from pyspark.sql.types import StringType\n",
    "\n",
    "sdf=predictions_use.select(\"Recommended IND\",\"prediction\")\n",
    "\n",
    "# Convert to Pandas dataframe in order to generate confusion matrix and classification report                 \n",
    "pdf=sdf.toPandas()\n",
    "# Take a look at the random 5 entries from the Pandas dataframe containing the prediction and actual label i.e. Recommended IND and \n",
    "pdf.sample(5)"
   ]
  },
  {
   "cell_type": "code",
   "execution_count": 10,
   "metadata": {},
   "outputs": [
    {
     "data": {
      "text/plain": [
       "Text(0.5, 1.0, 'Confusion matrix: \\n Deep learning algorithmn by tranformer-based Universal Sentence Encoder')"
      ]
     },
     "execution_count": 10,
     "metadata": {},
     "output_type": "execute_result"
    },
    {
     "data": {
      "text/plain": [
       "Text(0.5, 15.0, 'Predicted Labels')"
      ]
     },
     "execution_count": 10,
     "metadata": {},
     "output_type": "execute_result"
    },
    {
     "data": {
      "text/plain": [
       "Text(33.0, 0.5, 'Actual Labels')"
      ]
     },
     "execution_count": 10,
     "metadata": {},
     "output_type": "execute_result"
    },
    {
     "data": {
      "text/plain": [
       "[Text(0, 0.5, 'Not recommended'), Text(0, 1.5, 'Recommended')]"
      ]
     },
     "execution_count": 10,
     "metadata": {},
     "output_type": "execute_result"
    },
    {
     "data": {
      "text/plain": [
       "[Text(0.5, 0, 'Not recommended'), Text(1.5, 0, 'Recommended')]"
      ]
     },
     "execution_count": 10,
     "metadata": {},
     "output_type": "execute_result"
    },
    {
     "data": {
      "image/png": "[encoded data removed]",
      "text/plain": [
       "<Figure size 432x288 with 1 Axes>"
      ]
     },
     "metadata": {
      "needs_background": "light"
     },
     "output_type": "display_data"
    }
   ],
   "source": [
    "from sklearn.metrics import confusion_matrix\n",
    "cm = confusion_matrix(pdf[\"Recommended IND\"],pdf[\"prediction\"])\n",
    "\n",
    "import seaborn as sns\n",
    "ax=sns.heatmap(cm, annot=True, fmt=\"d\",cbar=False, cmap=\"coolwarm\")\n",
    "ax.set_title(\"Confusion matrix: \\n Deep learning algorithmn by tranformer-based Universal Sentence Encoder\")\n",
    "ax.set_xlabel('Predicted Labels')\n",
    "ax.set_ylabel('Actual Labels')\n",
    "ax.yaxis.set_ticklabels(['Not recommended', 'Recommended'])\n",
    "ax.xaxis.set_ticklabels(['Not recommended', 'Recommended'])"
   ]
  },
  {
   "cell_type": "code",
   "execution_count": 11,
   "metadata": {},
   "outputs": [
    {
     "name": "stdout",
     "output_type": "stream",
     "text": [
      "\u001b[1mClassification report:\u001b[0;0m\n",
      "                 precision    recall  f1-score   support\n",
      "\n",
      "Not recommended       0.00      0.00      0.00       208\n",
      "    Recommended       0.82      1.00      0.90       944\n",
      "\n",
      "       accuracy                           0.82      1152\n",
      "      macro avg       0.41      0.50      0.45      1152\n",
      "   weighted avg       0.67      0.82      0.74      1152\n",
      "\n"
     ]
    },
    {
     "name": "stderr",
     "output_type": "stream",
     "text": [
      "/opt/conda/lib/python3.7/site-packages/sklearn/metrics/_classification.py:1318: UndefinedMetricWarning: Precision and F-score are ill-defined and being set to 0.0 in labels with no predicted samples. Use `zero_division` parameter to control this behavior.\n",
      "  _warn_prf(average, modifier, msg_start, len(result))\n",
      "/opt/conda/lib/python3.7/site-packages/sklearn/metrics/_classification.py:1318: UndefinedMetricWarning: Precision and F-score are ill-defined and being set to 0.0 in labels with no predicted samples. Use `zero_division` parameter to control this behavior.\n",
      "  _warn_prf(average, modifier, msg_start, len(result))\n",
      "/opt/conda/lib/python3.7/site-packages/sklearn/metrics/_classification.py:1318: UndefinedMetricWarning: Precision and F-score are ill-defined and being set to 0.0 in labels with no predicted samples. Use `zero_division` parameter to control this behavior.\n",
      "  _warn_prf(average, modifier, msg_start, len(result))\n"
     ]
    }
   ],
   "source": [
    "from sklearn.metrics import classification_report\n",
    "print(start+\"Classification report:\"+end)\n",
    "print(classification_report(pdf[\"Recommended IND\"],pdf[\"prediction\"],target_names=[\"Not recommended\",\"Recommended\"]))"
   ]
  },
  {
   "cell_type": "markdown",
   "metadata": {},
   "source": [
    "Zero \"Not recommended\" predicted in test set hence the warnings generated i.e. precision/recall/f1-score all 0.00 for classification report."
   ]
  },
  {
   "cell_type": "code",
   "execution_count": 12,
   "metadata": {},
   "outputs": [
    {
     "name": "stderr",
     "output_type": "stream",
     "text": [
      "[Stage 18:>                                                         (0 + 1) / 1]\r"
     ]
    },
    {
     "name": "stdout",
     "output_type": "stream",
     "text": [
      "Area under the receiver operating characteristic (ROC) curve = 0.5000\n",
      "Area under the precision-recall curve                        = 0.8194\n"
     ]
    },
    {
     "name": "stderr",
     "output_type": "stream",
     "text": [
      "                                                                                \r"
     ]
    }
   ],
   "source": [
    "from pyspark.ml.evaluation import BinaryClassificationEvaluator\n",
    "binary_evaluator = BinaryClassificationEvaluator(labelCol='Recommended IND',rawPredictionCol='prediction',metricName='areaUnderPR')\n",
    "\n",
    "auc_use = binary_evaluator.evaluate(predictions_use, {binary_evaluator.metricName: \"areaUnderROC\"}) #https://spark.apache.org/docs/latest/api/python/reference/api/pyspark.mllib.evaluation.BinaryClassificationMetrics.html\n",
    "aucPR_use = binary_evaluator.evaluate(predictions_use, {binary_evaluator.metricName: \"areaUnderPR\"})\n",
    "\n",
    "print('Area under the receiver operating characteristic (ROC) curve = {:.4f}\\nArea under the precision-recall curve                        = {:.4f}'.format(auc_use,aucPR_use))"
   ]
  }
 ],
 "metadata": {
  "colab": {
   "collapsed_sections": [],
   "name": "DL_tfhub_use_lg.ipynb",
   "provenance": [],
   "toc_visible": true
  },
  "environment": {
   "kernel": "python3",
   "name": "common-cpu.m94",
   "type": "gcloud",
   "uri": "gcr.io/deeplearning-platform-release/base-cpu:m94"
  },
  "kernelspec": {
   "display_name": "Python 3",
   "language": "python",
   "name": "python3"
  },
  "language_info": {
   "codemirror_mode": {
    "name": "ipython",
    "version": 3
   },
   "file_extension": ".py",
   "mimetype": "text/x-python",
   "name": "python",
   "nbconvert_exporter": "python",
   "pygments_lexer": "ipython3",
   "version": "3.7.12"
  }
 },
 "nbformat": 4,
 "nbformat_minor": 4
}
